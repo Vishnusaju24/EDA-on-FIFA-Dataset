{
 "cells": [
  {
   "cell_type": "markdown",
   "metadata": {},
   "source": [
    "# Importing packages and the dataset."
   ]
  },
  {
   "cell_type": "code",
   "execution_count": 1,
   "metadata": {},
   "outputs": [],
   "source": [
    "import numpy as np\n",
    "import pandas as pd\n",
    "import matplotlib.pyplot as plt\n",
    "import seaborn as sns"
   ]
  },
  {
   "cell_type": "code",
   "execution_count": 2,
   "metadata": {},
   "outputs": [],
   "source": [
    "%matplotlib inline"
   ]
  },
  {
   "cell_type": "code",
   "execution_count": 3,
   "metadata": {},
   "outputs": [],
   "source": [
    "fifa = pd.read_csv(\"C://Users/Vishnu/Desktop/EDA/EDA Mini Project/fifa.csv\")"
   ]
  },
  {
   "cell_type": "code",
   "execution_count": 4,
   "metadata": {},
   "outputs": [],
   "source": [
    "fif_v = pd.read_csv(\"C://Users/Vishnu/Desktop/EDA/EDA Mini Project/fifa_ variable_information.csv\")"
   ]
  },
  {
   "cell_type": "code",
   "execution_count": 5,
   "metadata": {},
   "outputs": [
    {
     "data": {
      "text/html": [
       "<div>\n",
       "<style scoped>\n",
       "    .dataframe tbody tr th:only-of-type {\n",
       "        vertical-align: middle;\n",
       "    }\n",
       "\n",
       "    .dataframe tbody tr th {\n",
       "        vertical-align: top;\n",
       "    }\n",
       "\n",
       "    .dataframe thead th {\n",
       "        text-align: right;\n",
       "    }\n",
       "</style>\n",
       "<table border=\"1\" class=\"dataframe\">\n",
       "  <thead>\n",
       "    <tr style=\"text-align: right;\">\n",
       "      <th></th>\n",
       "      <th>ID</th>\n",
       "      <th>Name</th>\n",
       "      <th>Age</th>\n",
       "      <th>Photo</th>\n",
       "      <th>Nationality</th>\n",
       "      <th>Flag</th>\n",
       "      <th>Overall</th>\n",
       "      <th>Potential</th>\n",
       "      <th>Club</th>\n",
       "      <th>Club Logo</th>\n",
       "      <th>...</th>\n",
       "      <th>Composure</th>\n",
       "      <th>Marking</th>\n",
       "      <th>StandingTackle</th>\n",
       "      <th>SlidingTackle</th>\n",
       "      <th>GKDiving</th>\n",
       "      <th>GKHandling</th>\n",
       "      <th>GKKicking</th>\n",
       "      <th>GKPositioning</th>\n",
       "      <th>GKReflexes</th>\n",
       "      <th>Release Clause</th>\n",
       "    </tr>\n",
       "  </thead>\n",
       "  <tbody>\n",
       "    <tr>\n",
       "      <th>0</th>\n",
       "      <td>158023</td>\n",
       "      <td>L. Messi</td>\n",
       "      <td>31</td>\n",
       "      <td>https://cdn.sofifa.org/players/4/19/158023.png</td>\n",
       "      <td>Argentina</td>\n",
       "      <td>https://cdn.sofifa.org/flags/52.png</td>\n",
       "      <td>94</td>\n",
       "      <td>94</td>\n",
       "      <td>FC Barcelona</td>\n",
       "      <td>https://cdn.sofifa.org/teams/2/light/241.png</td>\n",
       "      <td>...</td>\n",
       "      <td>96.0</td>\n",
       "      <td>33.0</td>\n",
       "      <td>28.0</td>\n",
       "      <td>26.0</td>\n",
       "      <td>6.0</td>\n",
       "      <td>11.0</td>\n",
       "      <td>15.0</td>\n",
       "      <td>14.0</td>\n",
       "      <td>8.0</td>\n",
       "      <td>€226.5M</td>\n",
       "    </tr>\n",
       "    <tr>\n",
       "      <th>1</th>\n",
       "      <td>20801</td>\n",
       "      <td>Cristiano Ronaldo</td>\n",
       "      <td>33</td>\n",
       "      <td>https://cdn.sofifa.org/players/4/19/20801.png</td>\n",
       "      <td>Portugal</td>\n",
       "      <td>https://cdn.sofifa.org/flags/38.png</td>\n",
       "      <td>94</td>\n",
       "      <td>94</td>\n",
       "      <td>Juventus</td>\n",
       "      <td>https://cdn.sofifa.org/teams/2/light/45.png</td>\n",
       "      <td>...</td>\n",
       "      <td>95.0</td>\n",
       "      <td>28.0</td>\n",
       "      <td>31.0</td>\n",
       "      <td>23.0</td>\n",
       "      <td>7.0</td>\n",
       "      <td>11.0</td>\n",
       "      <td>15.0</td>\n",
       "      <td>14.0</td>\n",
       "      <td>11.0</td>\n",
       "      <td>€127.1M</td>\n",
       "    </tr>\n",
       "    <tr>\n",
       "      <th>2</th>\n",
       "      <td>190871</td>\n",
       "      <td>Neymar Jr</td>\n",
       "      <td>26</td>\n",
       "      <td>https://cdn.sofifa.org/players/4/19/190871.png</td>\n",
       "      <td>Brazil</td>\n",
       "      <td>https://cdn.sofifa.org/flags/54.png</td>\n",
       "      <td>92</td>\n",
       "      <td>93</td>\n",
       "      <td>Paris Saint-Germain</td>\n",
       "      <td>https://cdn.sofifa.org/teams/2/light/73.png</td>\n",
       "      <td>...</td>\n",
       "      <td>94.0</td>\n",
       "      <td>27.0</td>\n",
       "      <td>24.0</td>\n",
       "      <td>33.0</td>\n",
       "      <td>9.0</td>\n",
       "      <td>9.0</td>\n",
       "      <td>15.0</td>\n",
       "      <td>15.0</td>\n",
       "      <td>11.0</td>\n",
       "      <td>€228.1M</td>\n",
       "    </tr>\n",
       "    <tr>\n",
       "      <th>3</th>\n",
       "      <td>193080</td>\n",
       "      <td>De Gea</td>\n",
       "      <td>27</td>\n",
       "      <td>https://cdn.sofifa.org/players/4/19/193080.png</td>\n",
       "      <td>Spain</td>\n",
       "      <td>https://cdn.sofifa.org/flags/45.png</td>\n",
       "      <td>91</td>\n",
       "      <td>93</td>\n",
       "      <td>Manchester United</td>\n",
       "      <td>https://cdn.sofifa.org/teams/2/light/11.png</td>\n",
       "      <td>...</td>\n",
       "      <td>68.0</td>\n",
       "      <td>15.0</td>\n",
       "      <td>21.0</td>\n",
       "      <td>13.0</td>\n",
       "      <td>90.0</td>\n",
       "      <td>85.0</td>\n",
       "      <td>87.0</td>\n",
       "      <td>88.0</td>\n",
       "      <td>94.0</td>\n",
       "      <td>€138.6M</td>\n",
       "    </tr>\n",
       "    <tr>\n",
       "      <th>4</th>\n",
       "      <td>192985</td>\n",
       "      <td>K. De Bruyne</td>\n",
       "      <td>27</td>\n",
       "      <td>https://cdn.sofifa.org/players/4/19/192985.png</td>\n",
       "      <td>Belgium</td>\n",
       "      <td>https://cdn.sofifa.org/flags/7.png</td>\n",
       "      <td>91</td>\n",
       "      <td>92</td>\n",
       "      <td>Manchester City</td>\n",
       "      <td>https://cdn.sofifa.org/teams/2/light/10.png</td>\n",
       "      <td>...</td>\n",
       "      <td>88.0</td>\n",
       "      <td>68.0</td>\n",
       "      <td>58.0</td>\n",
       "      <td>51.0</td>\n",
       "      <td>15.0</td>\n",
       "      <td>13.0</td>\n",
       "      <td>5.0</td>\n",
       "      <td>10.0</td>\n",
       "      <td>13.0</td>\n",
       "      <td>€196.4M</td>\n",
       "    </tr>\n",
       "  </tbody>\n",
       "</table>\n",
       "<p>5 rows × 60 columns</p>\n",
       "</div>"
      ],
      "text/plain": [
       "       ID               Name  Age  \\\n",
       "0  158023           L. Messi   31   \n",
       "1   20801  Cristiano Ronaldo   33   \n",
       "2  190871          Neymar Jr   26   \n",
       "3  193080             De Gea   27   \n",
       "4  192985       K. De Bruyne   27   \n",
       "\n",
       "                                            Photo Nationality  \\\n",
       "0  https://cdn.sofifa.org/players/4/19/158023.png   Argentina   \n",
       "1   https://cdn.sofifa.org/players/4/19/20801.png    Portugal   \n",
       "2  https://cdn.sofifa.org/players/4/19/190871.png      Brazil   \n",
       "3  https://cdn.sofifa.org/players/4/19/193080.png       Spain   \n",
       "4  https://cdn.sofifa.org/players/4/19/192985.png     Belgium   \n",
       "\n",
       "                                  Flag  Overall  Potential  \\\n",
       "0  https://cdn.sofifa.org/flags/52.png       94         94   \n",
       "1  https://cdn.sofifa.org/flags/38.png       94         94   \n",
       "2  https://cdn.sofifa.org/flags/54.png       92         93   \n",
       "3  https://cdn.sofifa.org/flags/45.png       91         93   \n",
       "4   https://cdn.sofifa.org/flags/7.png       91         92   \n",
       "\n",
       "                  Club                                     Club Logo  \\\n",
       "0         FC Barcelona  https://cdn.sofifa.org/teams/2/light/241.png   \n",
       "1             Juventus   https://cdn.sofifa.org/teams/2/light/45.png   \n",
       "2  Paris Saint-Germain   https://cdn.sofifa.org/teams/2/light/73.png   \n",
       "3    Manchester United   https://cdn.sofifa.org/teams/2/light/11.png   \n",
       "4      Manchester City   https://cdn.sofifa.org/teams/2/light/10.png   \n",
       "\n",
       "        ...       Composure Marking StandingTackle  SlidingTackle  GKDiving  \\\n",
       "0       ...            96.0    33.0           28.0           26.0       6.0   \n",
       "1       ...            95.0    28.0           31.0           23.0       7.0   \n",
       "2       ...            94.0    27.0           24.0           33.0       9.0   \n",
       "3       ...            68.0    15.0           21.0           13.0      90.0   \n",
       "4       ...            88.0    68.0           58.0           51.0      15.0   \n",
       "\n",
       "   GKHandling GKKicking GKPositioning GKReflexes  Release Clause  \n",
       "0        11.0      15.0          14.0        8.0         €226.5M  \n",
       "1        11.0      15.0          14.0       11.0         €127.1M  \n",
       "2         9.0      15.0          15.0       11.0         €228.1M  \n",
       "3        85.0      87.0          88.0       94.0         €138.6M  \n",
       "4        13.0       5.0          10.0       13.0         €196.4M  \n",
       "\n",
       "[5 rows x 60 columns]"
      ]
     },
     "execution_count": 5,
     "metadata": {},
     "output_type": "execute_result"
    }
   ],
   "source": [
    "fifa.head()"
   ]
  },
  {
   "cell_type": "code",
   "execution_count": 6,
   "metadata": {},
   "outputs": [
    {
     "name": "stdout",
     "output_type": "stream",
     "text": [
      "<class 'pandas.core.frame.DataFrame'>\n",
      "RangeIndex: 18207 entries, 0 to 18206\n",
      "Data columns (total 60 columns):\n",
      "ID                          18207 non-null int64\n",
      "Name                        18207 non-null object\n",
      "Age                         18207 non-null int64\n",
      "Photo                       18207 non-null object\n",
      "Nationality                 18207 non-null object\n",
      "Flag                        18207 non-null object\n",
      "Overall                     18207 non-null int64\n",
      "Potential                   18207 non-null int64\n",
      "Club                        17966 non-null object\n",
      "Club Logo                   18207 non-null object\n",
      "Value                       18207 non-null object\n",
      "Wage                        18207 non-null object\n",
      "Preferred Foot              18159 non-null object\n",
      "International Reputation    18159 non-null float64\n",
      "Weak Foot                   18159 non-null float64\n",
      "Skill Moves                 18159 non-null float64\n",
      "Work Rate                   18159 non-null object\n",
      "Body Type                   18159 non-null object\n",
      "Position                    18147 non-null object\n",
      "Jersey Number               18147 non-null float64\n",
      "Joined                      16654 non-null object\n",
      "Loaned From                 1264 non-null object\n",
      "Contract Valid Until        17918 non-null object\n",
      "Height                      18159 non-null object\n",
      "Weight                      18159 non-null object\n",
      "Crossing                    18159 non-null float64\n",
      "Finishing                   18159 non-null float64\n",
      "HeadingAccuracy             18159 non-null float64\n",
      "ShortPassing                18159 non-null float64\n",
      "Volleys                     18159 non-null float64\n",
      "Dribbling                   18159 non-null float64\n",
      "Curve                       18159 non-null float64\n",
      "FKAccuracy                  18159 non-null float64\n",
      "LongPassing                 18159 non-null float64\n",
      "BallControl                 18159 non-null float64\n",
      "Acceleration                18159 non-null float64\n",
      "SprintSpeed                 18159 non-null float64\n",
      "Agility                     18159 non-null float64\n",
      "Reactions                   18159 non-null float64\n",
      "Balance                     18159 non-null float64\n",
      "ShotPower                   18159 non-null float64\n",
      "Jumping                     18159 non-null float64\n",
      "Stamina                     18159 non-null float64\n",
      "Strength                    18159 non-null float64\n",
      "LongShots                   18159 non-null float64\n",
      "Aggression                  18159 non-null float64\n",
      "Interceptions               18159 non-null float64\n",
      "Positioning                 18159 non-null float64\n",
      "Vision                      18159 non-null float64\n",
      "Penalties                   18159 non-null float64\n",
      "Composure                   18159 non-null float64\n",
      "Marking                     18159 non-null float64\n",
      "StandingTackle              18159 non-null float64\n",
      "SlidingTackle               18159 non-null float64\n",
      "GKDiving                    18159 non-null float64\n",
      "GKHandling                  18159 non-null float64\n",
      "GKKicking                   18159 non-null float64\n",
      "GKPositioning               18159 non-null float64\n",
      "GKReflexes                  18159 non-null float64\n",
      "Release Clause              16643 non-null object\n",
      "dtypes: float64(38), int64(4), object(18)\n",
      "memory usage: 8.3+ MB\n"
     ]
    }
   ],
   "source": [
    "fifa.info()"
   ]
  },
  {
   "cell_type": "markdown",
   "metadata": {},
   "source": [
    "## Dropping unnecessary columns "
   ]
  },
  {
   "cell_type": "code",
   "execution_count": 7,
   "metadata": {},
   "outputs": [],
   "source": [
    "fifa_n = fifa.drop([\"Photo\",\"Flag\",\"Club Logo\"],axis=1)"
   ]
  },
  {
   "cell_type": "code",
   "execution_count": 8,
   "metadata": {},
   "outputs": [
    {
     "data": {
      "text/html": [
       "<div>\n",
       "<style scoped>\n",
       "    .dataframe tbody tr th:only-of-type {\n",
       "        vertical-align: middle;\n",
       "    }\n",
       "\n",
       "    .dataframe tbody tr th {\n",
       "        vertical-align: top;\n",
       "    }\n",
       "\n",
       "    .dataframe thead th {\n",
       "        text-align: right;\n",
       "    }\n",
       "</style>\n",
       "<table border=\"1\" class=\"dataframe\">\n",
       "  <thead>\n",
       "    <tr style=\"text-align: right;\">\n",
       "      <th></th>\n",
       "      <th>ID</th>\n",
       "      <th>unique id for every player</th>\n",
       "    </tr>\n",
       "  </thead>\n",
       "  <tbody>\n",
       "    <tr>\n",
       "      <th>0</th>\n",
       "      <td>Name</td>\n",
       "      <td>name</td>\n",
       "    </tr>\n",
       "    <tr>\n",
       "      <th>1</th>\n",
       "      <td>Age</td>\n",
       "      <td>age</td>\n",
       "    </tr>\n",
       "    <tr>\n",
       "      <th>2</th>\n",
       "      <td>Photo</td>\n",
       "      <td>url to the player's photo</td>\n",
       "    </tr>\n",
       "    <tr>\n",
       "      <th>3</th>\n",
       "      <td>Nationality</td>\n",
       "      <td>nationality</td>\n",
       "    </tr>\n",
       "    <tr>\n",
       "      <th>4</th>\n",
       "      <td>Flag</td>\n",
       "      <td>url to players's country flag</td>\n",
       "    </tr>\n",
       "  </tbody>\n",
       "</table>\n",
       "</div>"
      ],
      "text/plain": [
       "            ID     unique id for every player\n",
       "0         Name                           name\n",
       "1          Age                            age\n",
       "2        Photo      url to the player's photo\n",
       "3  Nationality                    nationality\n",
       "4         Flag  url to players's country flag"
      ]
     },
     "execution_count": 8,
     "metadata": {},
     "output_type": "execute_result"
    }
   ],
   "source": [
    "fif_v.head()"
   ]
  },
  {
   "cell_type": "markdown",
   "metadata": {},
   "source": [
    "# Replacing Null Values"
   ]
  },
  {
   "cell_type": "code",
   "execution_count": 9,
   "metadata": {},
   "outputs": [
    {
     "data": {
      "text/plain": [
       "ID                              0\n",
       "Name                            0\n",
       "Age                             0\n",
       "Nationality                     0\n",
       "Overall                         0\n",
       "Potential                       0\n",
       "Club                          241\n",
       "Value                           0\n",
       "Wage                            0\n",
       "Preferred Foot                 48\n",
       "International Reputation       48\n",
       "Weak Foot                      48\n",
       "Skill Moves                    48\n",
       "Work Rate                      48\n",
       "Body Type                      48\n",
       "Position                       60\n",
       "Jersey Number                  60\n",
       "Joined                       1553\n",
       "Loaned From                 16943\n",
       "Contract Valid Until          289\n",
       "Height                         48\n",
       "Weight                         48\n",
       "Crossing                       48\n",
       "Finishing                      48\n",
       "HeadingAccuracy                48\n",
       "ShortPassing                   48\n",
       "Volleys                        48\n",
       "Dribbling                      48\n",
       "Curve                          48\n",
       "FKAccuracy                     48\n",
       "LongPassing                    48\n",
       "BallControl                    48\n",
       "Acceleration                   48\n",
       "SprintSpeed                    48\n",
       "Agility                        48\n",
       "Reactions                      48\n",
       "Balance                        48\n",
       "ShotPower                      48\n",
       "Jumping                        48\n",
       "Stamina                        48\n",
       "Strength                       48\n",
       "LongShots                      48\n",
       "Aggression                     48\n",
       "Interceptions                  48\n",
       "Positioning                    48\n",
       "Vision                         48\n",
       "Penalties                      48\n",
       "Composure                      48\n",
       "Marking                        48\n",
       "StandingTackle                 48\n",
       "SlidingTackle                  48\n",
       "GKDiving                       48\n",
       "GKHandling                     48\n",
       "GKKicking                      48\n",
       "GKPositioning                  48\n",
       "GKReflexes                     48\n",
       "Release Clause               1564\n",
       "dtype: int64"
      ]
     },
     "execution_count": 9,
     "metadata": {},
     "output_type": "execute_result"
    }
   ],
   "source": [
    "fifa_n.isnull().sum()"
   ]
  },
  {
   "cell_type": "code",
   "execution_count": 10,
   "metadata": {},
   "outputs": [
    {
     "data": {
      "text/plain": [
       "count     18159\n",
       "unique       21\n",
       "top         6'0\n",
       "freq       2881\n",
       "Name: Height, dtype: object"
      ]
     },
     "execution_count": 10,
     "metadata": {},
     "output_type": "execute_result"
    }
   ],
   "source": [
    "fifa_n.Height.describe()"
   ]
  },
  {
   "cell_type": "code",
   "execution_count": 11,
   "metadata": {},
   "outputs": [],
   "source": [
    "fifa_n.Height.fillna(value = \"6'0\",inplace = True)"
   ]
  },
  {
   "cell_type": "code",
   "execution_count": 12,
   "metadata": {},
   "outputs": [
    {
     "data": {
      "text/plain": [
       "count      18159\n",
       "unique        57\n",
       "top       165lbs\n",
       "freq        1483\n",
       "Name: Weight, dtype: object"
      ]
     },
     "execution_count": 12,
     "metadata": {},
     "output_type": "execute_result"
    }
   ],
   "source": [
    "fifa_n.Weight.describe()"
   ]
  },
  {
   "cell_type": "code",
   "execution_count": 13,
   "metadata": {},
   "outputs": [],
   "source": [
    "fifa_n.Weight.fillna(value = \"165lbs\",inplace = True)"
   ]
  },
  {
   "cell_type": "code",
   "execution_count": 14,
   "metadata": {},
   "outputs": [
    {
     "data": {
      "text/plain": [
       "count    18159.000000\n",
       "mean         1.113222\n",
       "std          0.394031\n",
       "min          1.000000\n",
       "25%          1.000000\n",
       "50%          1.000000\n",
       "75%          1.000000\n",
       "max          5.000000\n",
       "Name: International Reputation, dtype: float64"
      ]
     },
     "execution_count": 14,
     "metadata": {},
     "output_type": "execute_result"
    }
   ],
   "source": [
    "fifa_n[\"International Reputation\"].describe()"
   ]
  },
  {
   "cell_type": "code",
   "execution_count": 15,
   "metadata": {},
   "outputs": [
    {
     "data": {
      "text/plain": [
       "0        5.0\n",
       "1        5.0\n",
       "2        5.0\n",
       "3        4.0\n",
       "4        4.0\n",
       "5        4.0\n",
       "6        4.0\n",
       "7        5.0\n",
       "8        4.0\n",
       "9        3.0\n",
       "10       4.0\n",
       "11       4.0\n",
       "12       3.0\n",
       "13       4.0\n",
       "14       3.0\n",
       "15       3.0\n",
       "16       3.0\n",
       "17       4.0\n",
       "18       3.0\n",
       "19       4.0\n",
       "20       4.0\n",
       "21       4.0\n",
       "22       5.0\n",
       "23       4.0\n",
       "24       4.0\n",
       "25       3.0\n",
       "26       3.0\n",
       "27       3.0\n",
       "28       4.0\n",
       "29       3.0\n",
       "        ... \n",
       "18177    1.0\n",
       "18178    1.0\n",
       "18179    1.0\n",
       "18180    1.0\n",
       "18181    1.0\n",
       "18182    1.0\n",
       "18183    1.0\n",
       "18184    1.0\n",
       "18185    1.0\n",
       "18186    1.0\n",
       "18187    1.0\n",
       "18188    1.0\n",
       "18189    1.0\n",
       "18190    1.0\n",
       "18191    1.0\n",
       "18192    1.0\n",
       "18193    1.0\n",
       "18194    1.0\n",
       "18195    1.0\n",
       "18196    1.0\n",
       "18197    1.0\n",
       "18198    1.0\n",
       "18199    1.0\n",
       "18200    1.0\n",
       "18201    1.0\n",
       "18202    1.0\n",
       "18203    1.0\n",
       "18204    1.0\n",
       "18205    1.0\n",
       "18206    1.0\n",
       "Name: International Reputation, Length: 18207, dtype: float64"
      ]
     },
     "execution_count": 15,
     "metadata": {},
     "output_type": "execute_result"
    }
   ],
   "source": [
    "fifa_n[\"International Reputation\"]"
   ]
  },
  {
   "cell_type": "code",
   "execution_count": 16,
   "metadata": {},
   "outputs": [],
   "source": [
    "fifa_n[\"International Reputation\"].fillna(value = 1.0,inplace = True)"
   ]
  },
  {
   "cell_type": "code",
   "execution_count": 17,
   "metadata": {},
   "outputs": [
    {
     "data": {
      "text/plain": [
       "count     16643\n",
       "unique     1244\n",
       "top       €1.1M\n",
       "freq        557\n",
       "Name: Release Clause, dtype: object"
      ]
     },
     "execution_count": 17,
     "metadata": {},
     "output_type": "execute_result"
    }
   ],
   "source": [
    "fifa_n[\"Release Clause\"].describe()"
   ]
  },
  {
   "cell_type": "code",
   "execution_count": 18,
   "metadata": {},
   "outputs": [],
   "source": [
    "fifa_n[\"Release Clause\"].fillna(value = \"€1.1M\",inplace = True)"
   ]
  },
  {
   "cell_type": "code",
   "execution_count": 19,
   "metadata": {},
   "outputs": [
    {
     "data": {
      "text/plain": [
       "ID                              0\n",
       "Name                            0\n",
       "Age                             0\n",
       "Nationality                     0\n",
       "Overall                         0\n",
       "Potential                       0\n",
       "Club                          241\n",
       "Value                           0\n",
       "Wage                            0\n",
       "Preferred Foot                 48\n",
       "International Reputation        0\n",
       "Weak Foot                      48\n",
       "Skill Moves                    48\n",
       "Work Rate                      48\n",
       "Body Type                      48\n",
       "Position                       60\n",
       "Jersey Number                  60\n",
       "Joined                       1553\n",
       "Loaned From                 16943\n",
       "Contract Valid Until          289\n",
       "Height                          0\n",
       "Weight                          0\n",
       "Crossing                       48\n",
       "Finishing                      48\n",
       "HeadingAccuracy                48\n",
       "ShortPassing                   48\n",
       "Volleys                        48\n",
       "Dribbling                      48\n",
       "Curve                          48\n",
       "FKAccuracy                     48\n",
       "LongPassing                    48\n",
       "BallControl                    48\n",
       "Acceleration                   48\n",
       "SprintSpeed                    48\n",
       "Agility                        48\n",
       "Reactions                      48\n",
       "Balance                        48\n",
       "ShotPower                      48\n",
       "Jumping                        48\n",
       "Stamina                        48\n",
       "Strength                       48\n",
       "LongShots                      48\n",
       "Aggression                     48\n",
       "Interceptions                  48\n",
       "Positioning                    48\n",
       "Vision                         48\n",
       "Penalties                      48\n",
       "Composure                      48\n",
       "Marking                        48\n",
       "StandingTackle                 48\n",
       "SlidingTackle                  48\n",
       "GKDiving                       48\n",
       "GKHandling                     48\n",
       "GKKicking                      48\n",
       "GKPositioning                  48\n",
       "GKReflexes                     48\n",
       "Release Clause                  0\n",
       "dtype: int64"
      ]
     },
     "execution_count": 19,
     "metadata": {},
     "output_type": "execute_result"
    }
   ],
   "source": [
    "fifa_n.isnull().sum()"
   ]
  },
  {
   "cell_type": "code",
   "execution_count": 20,
   "metadata": {},
   "outputs": [],
   "source": [
    "#Converting to float values"
   ]
  },
  {
   "cell_type": "code",
   "execution_count": 21,
   "metadata": {},
   "outputs": [
    {
     "data": {
      "text/plain": [
       "0        €226.5M\n",
       "1        €127.1M\n",
       "2        €228.1M\n",
       "3        €138.6M\n",
       "4        €196.4M\n",
       "5        €172.1M\n",
       "6        €137.4M\n",
       "7          €164M\n",
       "8        €104.6M\n",
       "9        €144.5M\n",
       "10       €127.1M\n",
       "11       €156.8M\n",
       "12        €90.2M\n",
       "13         €111M\n",
       "14       €121.3M\n",
       "15       €153.5M\n",
       "16       €160.7M\n",
       "17       €165.8M\n",
       "18       €123.3M\n",
       "19       €113.7M\n",
       "20       €105.6M\n",
       "21         €111M\n",
       "22        €62.7M\n",
       "23       €119.3M\n",
       "24        €44.6M\n",
       "25       €166.1M\n",
       "26       €137.3M\n",
       "27       €126.4M\n",
       "28         €1.1M\n",
       "29       €105.4M\n",
       "          ...   \n",
       "18177      €193K\n",
       "18178       €94K\n",
       "18179      €119K\n",
       "18180       €78K\n",
       "18181      €109K\n",
       "18182      €101K\n",
       "18183      €1.1M\n",
       "18184       €78K\n",
       "18185       €88K\n",
       "18186      €167K\n",
       "18187       €66K\n",
       "18188      €143K\n",
       "18189      €125K\n",
       "18190      €165K\n",
       "18191      €119K\n",
       "18192      €119K\n",
       "18193       €99K\n",
       "18194      €109K\n",
       "18195      €153K\n",
       "18196      €113K\n",
       "18197       €88K\n",
       "18198      €165K\n",
       "18199      €175K\n",
       "18200      €143K\n",
       "18201      €153K\n",
       "18202      €143K\n",
       "18203      €113K\n",
       "18204      €165K\n",
       "18205      €143K\n",
       "18206      €165K\n",
       "Name: Release Clause, Length: 18207, dtype: object"
      ]
     },
     "execution_count": 21,
     "metadata": {},
     "output_type": "execute_result"
    }
   ],
   "source": [
    "fifa_n[\"Release Clause\"]"
   ]
  },
  {
   "cell_type": "code",
   "execution_count": 22,
   "metadata": {},
   "outputs": [
    {
     "data": {
      "text/plain": [
       "0        159lbs\n",
       "1        183lbs\n",
       "2        150lbs\n",
       "3        168lbs\n",
       "4        154lbs\n",
       "5        163lbs\n",
       "6        146lbs\n",
       "7        190lbs\n",
       "8        181lbs\n",
       "9        192lbs\n",
       "10       176lbs\n",
       "11       168lbs\n",
       "12       172lbs\n",
       "13       148lbs\n",
       "14       159lbs\n",
       "15       165lbs\n",
       "16       196lbs\n",
       "17       161lbs\n",
       "18       187lbs\n",
       "19       212lbs\n",
       "20       168lbs\n",
       "21       170lbs\n",
       "22       203lbs\n",
       "23       154lbs\n",
       "24       187lbs\n",
       "25       161lbs\n",
       "26       157lbs\n",
       "27       185lbs\n",
       "28       172lbs\n",
       "29       130lbs\n",
       "          ...  \n",
       "18177    163lbs\n",
       "18178    176lbs\n",
       "18179    163lbs\n",
       "18180    172lbs\n",
       "18181    134lbs\n",
       "18182    165lbs\n",
       "18183    190lbs\n",
       "18184    179lbs\n",
       "18185    159lbs\n",
       "18186    174lbs\n",
       "18187    161lbs\n",
       "18188    148lbs\n",
       "18189    165lbs\n",
       "18190    176lbs\n",
       "18191    168lbs\n",
       "18192    165lbs\n",
       "18193    146lbs\n",
       "18194    187lbs\n",
       "18195    141lbs\n",
       "18196    146lbs\n",
       "18197    141lbs\n",
       "18198    154lbs\n",
       "18199    150lbs\n",
       "18200    157lbs\n",
       "18201    168lbs\n",
       "18202    134lbs\n",
       "18203    170lbs\n",
       "18204    148lbs\n",
       "18205    154lbs\n",
       "18206    176lbs\n",
       "Name: Weight, Length: 18207, dtype: object"
      ]
     },
     "execution_count": 22,
     "metadata": {},
     "output_type": "execute_result"
    }
   ],
   "source": [
    "fifa_n[\"Weight\"]"
   ]
  },
  {
   "cell_type": "code",
   "execution_count": 23,
   "metadata": {},
   "outputs": [
    {
     "data": {
      "text/plain": [
       "0         5'7\n",
       "1         6'2\n",
       "2         5'9\n",
       "3         6'4\n",
       "4        5'11\n",
       "5         5'8\n",
       "6         5'8\n",
       "7         6'0\n",
       "8         6'0\n",
       "9         6'2\n",
       "10        6'0\n",
       "11        6'0\n",
       "12        6'2\n",
       "13        5'8\n",
       "14        5'6\n",
       "15       5'10\n",
       "16        6'2\n",
       "17        5'9\n",
       "18        6'2\n",
       "19        6'6\n",
       "20        6'2\n",
       "21        6'1\n",
       "22        6'4\n",
       "23        5'8\n",
       "24        6'2\n",
       "25       5'10\n",
       "26        5'9\n",
       "27        6'1\n",
       "28       5'11\n",
       "29        5'4\n",
       "         ... \n",
       "18177    5'10\n",
       "18178     6'0\n",
       "18179     6'2\n",
       "18180     6'1\n",
       "18181    5'11\n",
       "18182    5'10\n",
       "18183     6'2\n",
       "18184     6'1\n",
       "18185    5'11\n",
       "18186    5'10\n",
       "18187    5'10\n",
       "18188    5'10\n",
       "18189    5'10\n",
       "18190     5'9\n",
       "18191    5'11\n",
       "18192     6'1\n",
       "18193     5'8\n",
       "18194     6'3\n",
       "18195     5'8\n",
       "18196     5'7\n",
       "18197    5'10\n",
       "18198    5'11\n",
       "18199     5'6\n",
       "18200     5'9\n",
       "18201     6'1\n",
       "18202     5'9\n",
       "18203     6'3\n",
       "18204     5'8\n",
       "18205    5'10\n",
       "18206    5'10\n",
       "Name: Height, Length: 18207, dtype: object"
      ]
     },
     "execution_count": 23,
     "metadata": {},
     "output_type": "execute_result"
    }
   ],
   "source": [
    "fifa_n[\"Height\"]"
   ]
  },
  {
   "cell_type": "code",
   "execution_count": 24,
   "metadata": {},
   "outputs": [],
   "source": [
    "fifa_n.Weight=fifa_n.Weight.str.split('lbs',expand=True)"
   ]
  },
  {
   "cell_type": "code",
   "execution_count": 26,
   "metadata": {},
   "outputs": [],
   "source": [
    "fifa_n.Weight=list(np.float_(fifa_n.Weight))"
   ]
  },
  {
   "cell_type": "code",
   "execution_count": 27,
   "metadata": {},
   "outputs": [],
   "source": [
    "fifa_n.Value=fifa_n.Value.str.split(\"€\",n=-2,expand=True)[1]"
   ]
  },
  {
   "cell_type": "code",
   "execution_count": 29,
   "metadata": {},
   "outputs": [],
   "source": [
    "fifa_n.Value=fifa_n.Value.str.replace('M','0000000')"
   ]
  },
  {
   "cell_type": "code",
   "execution_count": 30,
   "metadata": {},
   "outputs": [],
   "source": [
    "fifa_n.Value=fifa_n.Value.str.replace('K','000')"
   ]
  },
  {
   "cell_type": "code",
   "execution_count": 32,
   "metadata": {},
   "outputs": [],
   "source": [
    "fifa_n.Value=fifa_n.Value.str.replace('.50000000','5000000')"
   ]
  },
  {
   "cell_type": "code",
   "execution_count": 34,
   "metadata": {},
   "outputs": [],
   "source": [
    "fifa_n.Value=list(np.float_(fifa_n.Value))"
   ]
  },
  {
   "cell_type": "code",
   "execution_count": 35,
   "metadata": {},
   "outputs": [],
   "source": [
    "fifa_n.Wage=fifa_n.Wage.str.split(\"€\",n=-2,expand=True)[1]\n",
    "fifa_n.Wage=fifa_n.Wage.str.replace('K','000') # replacing the value of k by 0\n",
    "fifa_n.Wage=list(np.float_(fifa_n.Wage))"
   ]
  },
  {
   "cell_type": "code",
   "execution_count": 36,
   "metadata": {},
   "outputs": [],
   "source": [
    "fifa_n.Joined=fifa_n.Joined.str.split(', ',expand=True)[1]"
   ]
  },
  {
   "cell_type": "code",
   "execution_count": 37,
   "metadata": {},
   "outputs": [],
   "source": [
    "fifa_n.Joined.isnull().sum()\n",
    "fifa_n.Joined.fillna(value='2018',inplace=True)"
   ]
  },
  {
   "cell_type": "code",
   "execution_count": 38,
   "metadata": {},
   "outputs": [],
   "source": [
    "fifa_n.Joined=list(np.int_(fifa_n.Joined))"
   ]
  },
  {
   "cell_type": "code",
   "execution_count": 39,
   "metadata": {},
   "outputs": [],
   "source": [
    "fifa_n['Release Clause']=fifa_n['Release Clause'].str.split('€',expand=True)[1]"
   ]
  },
  {
   "cell_type": "code",
   "execution_count": 40,
   "metadata": {},
   "outputs": [],
   "source": [
    "fifa_n['Release Clause']=fifa_n['Release Clause'].str.replace('M','0000000')\n",
    "fifa_n['Release Clause']=fifa_n['Release Clause'].str.replace('K','000')"
   ]
  },
  {
   "cell_type": "code",
   "execution_count": 41,
   "metadata": {},
   "outputs": [],
   "source": [
    "fifa_n['Release Clause']=fifa_n['Release Clause'].str.replace('.50000000','5000000')\n",
    "fifa_n['Release Clause']=fifa_n['Release Clause'].str.replace('.40000000','4000000')\n",
    "fifa_n['Release Clause']=fifa_n['Release Clause'].str.replace('.30000000','3000000')\n",
    "fifa_n['Release Clause']=fifa_n['Release Clause'].str.replace('.20000000','2000000')\n",
    "fifa_n['Release Clause']=fifa_n['Release Clause'].str.replace('.10000000','1000000')\n",
    "fifa_n['Release Clause']=fifa_n['Release Clause'].str.replace('.90000000','9000000')\n",
    "fifa_n['Release Clause']=fifa_n['Release Clause'].str.replace('.80000000','8000000')\n",
    "fifa_n['Release Clause']=fifa_n['Release Clause'].str.replace('.70000000','7000000')\n",
    "fifa_n['Release Clause']=fifa_n['Release Clause'].str.replace('.60000000','6000000')"
   ]
  },
  {
   "cell_type": "markdown",
   "metadata": {},
   "source": [
    "## Plot the distribution of Overall rating for all players "
   ]
  },
  {
   "cell_type": "code",
   "execution_count": 42,
   "metadata": {},
   "outputs": [
    {
     "data": {
      "text/plain": [
       "<matplotlib.axes._subplots.AxesSubplot at 0xd12af68860>"
      ]
     },
     "execution_count": 42,
     "metadata": {},
     "output_type": "execute_result"
    },
    {
     "data": {
      "image/png": "[encoded data removed]",
      "text/plain": [
       "<Figure size 1008x1152 with 1 Axes>"
      ]
     },
     "metadata": {
      "needs_background": "light"
     },
     "output_type": "display_data"
    }
   ],
   "source": [
    "\n",
    "plt.figure(figsize=(14, 16))\n",
    "sns.countplot(\"Overall\",data = fifa_n)"
   ]
  },
  {
   "cell_type": "markdown",
   "metadata": {},
   "source": [
    "### Generate a table containing the top 20 players ranked by Overall score and whose contract expires in 2020.\n",
    "a)\tWhat would the average wage for this set of players be?\n",
    "b)\tWhat is the average age?\n",
    "c)\tIs there a correlation between the Overall rating and Value for these players?\n"
   ]
  },
  {
   "cell_type": "code",
   "execution_count": 43,
   "metadata": {},
   "outputs": [
    {
     "data": {
      "text/plain": [
       "2019            4819\n",
       "2021            4360\n",
       "2020            4027\n",
       "2022            1477\n",
       "2023            1053\n",
       "Jun 30, 2019     931\n",
       "2018             886\n",
       "Dec 31, 2018     144\n",
       "May 31, 2019      60\n",
       "Jan 1, 2019       51\n",
       "2024              23\n",
       "Jun 30, 2020      14\n",
       "Jan 31, 2019      13\n",
       "2025               7\n",
       "Jan 2, 2019        6\n",
       "Jan 5, 2019        6\n",
       "Jan 12, 2019       5\n",
       "Oct 14, 2019       5\n",
       "Jan 6, 2019        4\n",
       "Jan 7, 2019        3\n",
       "Dec 31, 2019       3\n",
       "Jan 25, 2019       3\n",
       "2026               2\n",
       "May 31, 2020       2\n",
       "Dec 1, 2019        2\n",
       "Nov 30, 2018       2\n",
       "Jan 11, 2019       1\n",
       "Jun 1, 2019        1\n",
       "Jan 15, 2019       1\n",
       "May 4, 2019        1\n",
       "Jan 3, 2019        1\n",
       "Jan 18, 2019       1\n",
       "Jan 4, 2019        1\n",
       "Feb 27, 2020       1\n",
       "Jan 20, 2019       1\n",
       "Jan 30, 2019       1\n",
       "Name: Contract Valid Until, dtype: int64"
      ]
     },
     "execution_count": 43,
     "metadata": {},
     "output_type": "execute_result"
    }
   ],
   "source": [
    "fifa_n[\"Contract Valid Until\"].value_counts()"
   ]
  },
  {
   "cell_type": "code",
   "execution_count": 46,
   "metadata": {},
   "outputs": [],
   "source": [
    "fifa_n[\"Contract Valid Until\"].replace(to_replace = [\"Jan 30, 2019\",\"Jan 15, 2019\",\"Jan 18, 2019\",\"May 4, 2019\",\"Jan 20, 2019\",\"Jun 1, 2019\",\"Jan 3, 2019\",\"Jan 11, 2019\",\"Jan 4, 2019\",\"Dec 1, 2019\",\"Jan 7, 2019\",\"Jan 25, 2019\",\"Dec 31, 2019\",\"Jan 6, 2019\",\"Jan 12, 2019\",\"Jan 2, 2019\",\"Oct 14, 2019\",\"Jan 5, 2019\",\"Jan 31, 2019\",\"Jan 1, 2019\",\"May 31, 2019\",\"Jun 30, 2019\"],value = 2019 ,inplace =True)"
   ]
  },
  {
   "cell_type": "code",
   "execution_count": 47,
   "metadata": {},
   "outputs": [],
   "source": [
    "fifa_n[\"Contract Valid Until\"].replace(to_replace =[\"Feb 27, 2020\",\"May 31, 2020\",\"Jun 30, 2020\"],value = 2020,inplace=True)\n",
    "fifa_n[\"Contract Valid Until\"].replace(to_replace = 2020,value =\"2020\",inplace=True)\n",
    "fifa_n[\"Contract Valid Until\"].replace(to_replace = 2019,value =\"2019\",inplace=True)"
   ]
  },
  {
   "cell_type": "code",
   "execution_count": 48,
   "metadata": {},
   "outputs": [],
   "source": [
    "fifa_n[\"Contract Valid Until\"].replace(to_replace =[\"Dec 31, 2018\",\"Nov 30, 2018\"],value =\"2018\",inplace =True)"
   ]
  },
  {
   "cell_type": "code",
   "execution_count": 62,
   "metadata": {},
   "outputs": [
    {
     "data": {
      "text/plain": [
       "0        2021\n",
       "1        2022\n",
       "2        2022\n",
       "3        2020\n",
       "4        2023\n",
       "5        2020\n",
       "6        2020\n",
       "7        2021\n",
       "8        2020\n",
       "9        2021\n",
       "10       2021\n",
       "11       2022\n",
       "12       2019\n",
       "13       2020\n",
       "14       2023\n",
       "15       2022\n",
       "16       2024\n",
       "17       2023\n",
       "18       2022\n",
       "19       2024\n",
       "20       2023\n",
       "21       2020\n",
       "22       2021\n",
       "23       2021\n",
       "24       2020\n",
       "25       2022\n",
       "26       2023\n",
       "27       2021\n",
       "28       2019\n",
       "29       2022\n",
       "         ... \n",
       "18177    2019\n",
       "18178    2018\n",
       "18179    2020\n",
       "18180    2019\n",
       "18181    2018\n",
       "18182    2021\n",
       "18183    2023\n",
       "18184    2021\n",
       "18185    2018\n",
       "18186    2019\n",
       "18187    2020\n",
       "18188    2021\n",
       "18189    2020\n",
       "18190    2021\n",
       "18191    2021\n",
       "18192    2021\n",
       "18193    2021\n",
       "18194    2021\n",
       "18195    2018\n",
       "18196    2021\n",
       "18197    2018\n",
       "18198    2021\n",
       "18199    2021\n",
       "18200    2019\n",
       "18201    2018\n",
       "18202    2019\n",
       "18203    2020\n",
       "18204    2021\n",
       "18205    2019\n",
       "18206    2019\n",
       "Name: Contract Valid Until, Length: 18207, dtype: object"
      ]
     },
     "execution_count": 62,
     "metadata": {},
     "output_type": "execute_result"
    }
   ],
   "source": [
    "fifa_n[\"Contract Valid Until\"].fillna(value='2019')"
   ]
  },
  {
   "cell_type": "code",
   "execution_count": 63,
   "metadata": {},
   "outputs": [
    {
     "data": {
      "text/plain": [
       "2019    5920\n",
       "2021    4360\n",
       "2020    4044\n",
       "2022    1477\n",
       "2023    1053\n",
       "2018    1032\n",
       "2024      23\n",
       "2025       7\n",
       "2026       2\n",
       "Name: Contract Valid Until, dtype: int64"
      ]
     },
     "execution_count": 63,
     "metadata": {},
     "output_type": "execute_result"
    }
   ],
   "source": [
    "fifa_n[\"Contract Valid Until\"].value_counts()"
   ]
  },
  {
   "cell_type": "code",
   "execution_count": null,
   "metadata": {},
   "outputs": [],
   "source": [
    "#Creating a different database"
   ]
  },
  {
   "cell_type": "code",
   "execution_count": 50,
   "metadata": {},
   "outputs": [],
   "source": [
    "top20 = pd.DataFrame(columns=[\"Overall\",\"Contract Valid Until\",\"Wage\",\"Value\",\"Age\"],data = fifa_n)"
   ]
  },
  {
   "cell_type": "markdown",
   "metadata": {},
   "source": [
    "# Displaying top 20 players whose contract end at 2020"
   ]
  },
  {
   "cell_type": "code",
   "execution_count": 53,
   "metadata": {},
   "outputs": [
    {
     "data": {
      "text/html": [
       "<div>\n",
       "<style scoped>\n",
       "    .dataframe tbody tr th:only-of-type {\n",
       "        vertical-align: middle;\n",
       "    }\n",
       "\n",
       "    .dataframe tbody tr th {\n",
       "        vertical-align: top;\n",
       "    }\n",
       "\n",
       "    .dataframe thead th {\n",
       "        text-align: right;\n",
       "    }\n",
       "</style>\n",
       "<table border=\"1\" class=\"dataframe\">\n",
       "  <thead>\n",
       "    <tr style=\"text-align: right;\">\n",
       "      <th></th>\n",
       "      <th>Overall</th>\n",
       "      <th>Contract Valid Until</th>\n",
       "      <th>Wage</th>\n",
       "      <th>Value</th>\n",
       "      <th>Age</th>\n",
       "    </tr>\n",
       "  </thead>\n",
       "  <tbody>\n",
       "    <tr>\n",
       "      <th>3</th>\n",
       "      <td>91</td>\n",
       "      <td>2020</td>\n",
       "      <td>260000.0</td>\n",
       "      <td>720000000.0</td>\n",
       "      <td>27</td>\n",
       "    </tr>\n",
       "    <tr>\n",
       "      <th>5</th>\n",
       "      <td>91</td>\n",
       "      <td>2020</td>\n",
       "      <td>340000.0</td>\n",
       "      <td>930000000.0</td>\n",
       "      <td>27</td>\n",
       "    </tr>\n",
       "    <tr>\n",
       "      <th>6</th>\n",
       "      <td>91</td>\n",
       "      <td>2020</td>\n",
       "      <td>420000.0</td>\n",
       "      <td>670000000.0</td>\n",
       "      <td>32</td>\n",
       "    </tr>\n",
       "    <tr>\n",
       "      <th>8</th>\n",
       "      <td>91</td>\n",
       "      <td>2020</td>\n",
       "      <td>380000.0</td>\n",
       "      <td>510000000.0</td>\n",
       "      <td>32</td>\n",
       "    </tr>\n",
       "    <tr>\n",
       "      <th>13</th>\n",
       "      <td>90</td>\n",
       "      <td>2020</td>\n",
       "      <td>285000.0</td>\n",
       "      <td>600000000.0</td>\n",
       "      <td>32</td>\n",
       "    </tr>\n",
       "    <tr>\n",
       "      <th>21</th>\n",
       "      <td>89</td>\n",
       "      <td>2020</td>\n",
       "      <td>200000.0</td>\n",
       "      <td>600000000.0</td>\n",
       "      <td>31</td>\n",
       "    </tr>\n",
       "    <tr>\n",
       "      <th>24</th>\n",
       "      <td>89</td>\n",
       "      <td>2020</td>\n",
       "      <td>215000.0</td>\n",
       "      <td>270000000.0</td>\n",
       "      <td>33</td>\n",
       "    </tr>\n",
       "    <tr>\n",
       "      <th>31</th>\n",
       "      <td>88</td>\n",
       "      <td>2020</td>\n",
       "      <td>205000.0</td>\n",
       "      <td>735000000.0</td>\n",
       "      <td>26</td>\n",
       "    </tr>\n",
       "    <tr>\n",
       "      <th>39</th>\n",
       "      <td>88</td>\n",
       "      <td>2020</td>\n",
       "      <td>165000.0</td>\n",
       "      <td>240000000.0</td>\n",
       "      <td>33</td>\n",
       "    </tr>\n",
       "    <tr>\n",
       "      <th>46</th>\n",
       "      <td>87</td>\n",
       "      <td>2020</td>\n",
       "      <td>195000.0</td>\n",
       "      <td>305000000.0</td>\n",
       "      <td>31</td>\n",
       "    </tr>\n",
       "    <tr>\n",
       "      <th>49</th>\n",
       "      <td>87</td>\n",
       "      <td>2020</td>\n",
       "      <td>250000.0</td>\n",
       "      <td>380000000.0</td>\n",
       "      <td>29</td>\n",
       "    </tr>\n",
       "    <tr>\n",
       "      <th>50</th>\n",
       "      <td>87</td>\n",
       "      <td>2020</td>\n",
       "      <td>135000.0</td>\n",
       "      <td>5000000.0</td>\n",
       "      <td>31</td>\n",
       "    </tr>\n",
       "    <tr>\n",
       "      <th>52</th>\n",
       "      <td>87</td>\n",
       "      <td>2020</td>\n",
       "      <td>125000.0</td>\n",
       "      <td>465000000.0</td>\n",
       "      <td>30</td>\n",
       "    </tr>\n",
       "    <tr>\n",
       "      <th>64</th>\n",
       "      <td>86</td>\n",
       "      <td>2020</td>\n",
       "      <td>160000.0</td>\n",
       "      <td>365000000.0</td>\n",
       "      <td>27</td>\n",
       "    </tr>\n",
       "    <tr>\n",
       "      <th>71</th>\n",
       "      <td>86</td>\n",
       "      <td>2020</td>\n",
       "      <td>150000.0</td>\n",
       "      <td>390000000.0</td>\n",
       "      <td>29</td>\n",
       "    </tr>\n",
       "    <tr>\n",
       "      <th>73</th>\n",
       "      <td>86</td>\n",
       "      <td>2020</td>\n",
       "      <td>160000.0</td>\n",
       "      <td>300000000.0</td>\n",
       "      <td>31</td>\n",
       "    </tr>\n",
       "    <tr>\n",
       "      <th>75</th>\n",
       "      <td>86</td>\n",
       "      <td>2020</td>\n",
       "      <td>185000.0</td>\n",
       "      <td>180000000.0</td>\n",
       "      <td>33</td>\n",
       "    </tr>\n",
       "    <tr>\n",
       "      <th>80</th>\n",
       "      <td>85</td>\n",
       "      <td>2020</td>\n",
       "      <td>92000.0</td>\n",
       "      <td>500000000.0</td>\n",
       "      <td>24</td>\n",
       "    </tr>\n",
       "    <tr>\n",
       "      <th>90</th>\n",
       "      <td>85</td>\n",
       "      <td>2020</td>\n",
       "      <td>66000.0</td>\n",
       "      <td>370000000.0</td>\n",
       "      <td>29</td>\n",
       "    </tr>\n",
       "    <tr>\n",
       "      <th>98</th>\n",
       "      <td>85</td>\n",
       "      <td>2020</td>\n",
       "      <td>115000.0</td>\n",
       "      <td>305000000.0</td>\n",
       "      <td>32</td>\n",
       "    </tr>\n",
       "  </tbody>\n",
       "</table>\n",
       "</div>"
      ],
      "text/plain": [
       "    Overall Contract Valid Until      Wage        Value  Age\n",
       "3        91                 2020  260000.0  720000000.0   27\n",
       "5        91                 2020  340000.0  930000000.0   27\n",
       "6        91                 2020  420000.0  670000000.0   32\n",
       "8        91                 2020  380000.0  510000000.0   32\n",
       "13       90                 2020  285000.0  600000000.0   32\n",
       "21       89                 2020  200000.0  600000000.0   31\n",
       "24       89                 2020  215000.0  270000000.0   33\n",
       "31       88                 2020  205000.0  735000000.0   26\n",
       "39       88                 2020  165000.0  240000000.0   33\n",
       "46       87                 2020  195000.0  305000000.0   31\n",
       "49       87                 2020  250000.0  380000000.0   29\n",
       "50       87                 2020  135000.0    5000000.0   31\n",
       "52       87                 2020  125000.0  465000000.0   30\n",
       "64       86                 2020  160000.0  365000000.0   27\n",
       "71       86                 2020  150000.0  390000000.0   29\n",
       "73       86                 2020  160000.0  300000000.0   31\n",
       "75       86                 2020  185000.0  180000000.0   33\n",
       "80       85                 2020   92000.0  500000000.0   24\n",
       "90       85                 2020   66000.0  370000000.0   29\n",
       "98       85                 2020  115000.0  305000000.0   32"
      ]
     },
     "execution_count": 53,
     "metadata": {},
     "output_type": "execute_result"
    }
   ],
   "source": [
    "top20[top20[\"Contract Valid Until\"]==\"2020\"].head(20)"
   ]
  },
  {
   "cell_type": "code",
   "execution_count": 58,
   "metadata": {},
   "outputs": [
    {
     "data": {
      "text/plain": [
       "nan"
      ]
     },
     "execution_count": 58,
     "metadata": {},
     "output_type": "execute_result"
    }
   ],
   "source": [
    "fifa_n[fifa_n['Contract Valid Until']==2020].sort_values(by='Overall',ascending=False).head(20).Age.mean()"
   ]
  },
  {
   "cell_type": "code",
   "execution_count": 57,
   "metadata": {},
   "outputs": [
    {
     "data": {
      "text/plain": [
       "<seaborn.axisgrid.PairGrid at 0xd12b250f98>"
      ]
     },
     "execution_count": 57,
     "metadata": {},
     "output_type": "execute_result"
    },
    {
     "data": {
      "image/png": "[encoded data removed]",
      "text/plain": [
       "<Figure size 720x720 with 20 Axes>"
      ]
     },
     "metadata": {
      "needs_background": "light"
     },
     "output_type": "display_data"
    }
   ],
   "source": [
    "columns= ['Overall', 'Value','Wage','International Reputation','Height']\n",
    "sns.pairplot(fifa_n[columns])"
   ]
  },
  {
   "cell_type": "markdown",
   "metadata": {},
   "source": [
    "# Displaying Top 5 strikers"
   ]
  },
  {
   "cell_type": "code",
   "execution_count": 65,
   "metadata": {},
   "outputs": [],
   "source": [
    "new=pd.DataFrame(data=fifa_n,columns=['Name','Position','Wage','Overall'])"
   ]
  },
  {
   "cell_type": "code",
   "execution_count": 66,
   "metadata": {},
   "outputs": [],
   "source": [
    "new.fillna(value='ST',inplace=True)"
   ]
  },
  {
   "cell_type": "code",
   "execution_count": 67,
   "metadata": {},
   "outputs": [
    {
     "data": {
      "text/html": [
       "<div>\n",
       "<style scoped>\n",
       "    .dataframe tbody tr th:only-of-type {\n",
       "        vertical-align: middle;\n",
       "    }\n",
       "\n",
       "    .dataframe tbody tr th {\n",
       "        vertical-align: top;\n",
       "    }\n",
       "\n",
       "    .dataframe thead th {\n",
       "        text-align: right;\n",
       "    }\n",
       "</style>\n",
       "<table border=\"1\" class=\"dataframe\">\n",
       "  <thead>\n",
       "    <tr style=\"text-align: right;\">\n",
       "      <th></th>\n",
       "      <th>Name</th>\n",
       "      <th>Position</th>\n",
       "      <th>Wage</th>\n",
       "      <th>Overall</th>\n",
       "    </tr>\n",
       "  </thead>\n",
       "  <tbody>\n",
       "    <tr>\n",
       "      <th>1</th>\n",
       "      <td>Cristiano Ronaldo</td>\n",
       "      <td>ST</td>\n",
       "      <td>405000.0</td>\n",
       "      <td>94</td>\n",
       "    </tr>\n",
       "    <tr>\n",
       "      <th>10</th>\n",
       "      <td>R. Lewandowski</td>\n",
       "      <td>ST</td>\n",
       "      <td>205000.0</td>\n",
       "      <td>90</td>\n",
       "    </tr>\n",
       "    <tr>\n",
       "      <th>16</th>\n",
       "      <td>H. Kane</td>\n",
       "      <td>ST</td>\n",
       "      <td>205000.0</td>\n",
       "      <td>89</td>\n",
       "    </tr>\n",
       "    <tr>\n",
       "      <th>23</th>\n",
       "      <td>S. Agüero</td>\n",
       "      <td>ST</td>\n",
       "      <td>300000.0</td>\n",
       "      <td>89</td>\n",
       "    </tr>\n",
       "    <tr>\n",
       "      <th>36</th>\n",
       "      <td>G. Bale</td>\n",
       "      <td>ST</td>\n",
       "      <td>355000.0</td>\n",
       "      <td>88</td>\n",
       "    </tr>\n",
       "  </tbody>\n",
       "</table>\n",
       "</div>"
      ],
      "text/plain": [
       "                 Name Position      Wage  Overall\n",
       "1   Cristiano Ronaldo       ST  405000.0       94\n",
       "10     R. Lewandowski       ST  205000.0       90\n",
       "16            H. Kane       ST  205000.0       89\n",
       "23          S. Agüero       ST  300000.0       89\n",
       "36            G. Bale       ST  355000.0       88"
      ]
     },
     "execution_count": 67,
     "metadata": {},
     "output_type": "execute_result"
    }
   ],
   "source": [
    "new[new.Position=='ST'].sort_values('Overall',ascending=False).head()"
   ]
  },
  {
   "cell_type": "markdown",
   "metadata": {},
   "source": [
    "# Displaying Top 5 players for each position"
   ]
  },
  {
   "cell_type": "code",
   "execution_count": 68,
   "metadata": {},
   "outputs": [],
   "source": [
    "position=new.groupby(by='Position')"
   ]
  },
  {
   "cell_type": "code",
   "execution_count": 70,
   "metadata": {},
   "outputs": [
    {
     "data": {
      "text/plain": [
       "<pandas.core.groupby.groupby.DataFrameGroupBy object at 0x000000D12B183AC8>"
      ]
     },
     "execution_count": 70,
     "metadata": {},
     "output_type": "execute_result"
    }
   ],
   "source": [
    "position"
   ]
  },
  {
   "cell_type": "code",
   "execution_count": 71,
   "metadata": {},
   "outputs": [
    {
     "name": "stdout",
     "output_type": "stream",
     "text": [
      "\n",
      " RF              Name Position      Wage  Overall\n",
      "0        L. Messi       RF  565000.0       94\n",
      "50     D. Mertens       RF  135000.0       87\n",
      "528     D. Valeri       RF   12000.0       80\n",
      "890   L. Podolski       RF   11000.0       78\n",
      "1774     C. Ciano       RF   17000.0       75\n",
      "\n",
      " ST                  Name Position      Wage  Overall\n",
      "1   Cristiano Ronaldo       ST  405000.0       94\n",
      "10     R. Lewandowski       ST  205000.0       90\n",
      "16            H. Kane       ST  205000.0       89\n",
      "23          S. Agüero       ST  300000.0       89\n",
      "36            G. Bale       ST  355000.0       88\n",
      "\n",
      " LW           Name Position      Wage  Overall\n",
      "2    Neymar Jr       LW  290000.0       92\n",
      "29  L. Insigne       LW  165000.0       88\n",
      "30        Isco       LW  315000.0       88\n",
      "32    Coutinho       LW  340000.0       88\n",
      "55     L. Sané       LW  195000.0       86\n",
      "\n",
      " GK              Name Position      Wage  Overall\n",
      "3          De Gea       GK  260000.0       91\n",
      "9        J. Oblak       GK   94000.0       90\n",
      "18  M. ter Stegen       GK  240000.0       89\n",
      "19    T. Courtois       GK  240000.0       89\n",
      "22       M. Neuer       GK  130000.0       89\n",
      "\n",
      " RCM             Name Position      Wage  Overall\n",
      "4   K. De Bruyne      RCM  355000.0       91\n",
      "6      L. Modrić      RCM  420000.0       91\n",
      "53    I. Rakitić      RCM  260000.0       87\n",
      "82    J. Kimmich      RCM   92000.0       85\n",
      "83          Saúl      RCM   77000.0       85\n",
      "\n",
      " LF                 Name Position      Wage  Overall\n",
      "5          E. Hazard       LF  340000.0       91\n",
      "15         P. Dybala       LF  205000.0       89\n",
      "76           Iniesta       LF   21000.0       86\n",
      "272   Jonathan Viera       LF   31000.0       82\n",
      "1379       S. Blanco       LF    9000.0       76\n",
      "\n",
      " RS                Name Position      Wage  Overall\n",
      "7         L. Suárez       RS  455000.0       91\n",
      "109  Z. Ibrahimović       RS   15000.0       85\n",
      "148          Falcao       RS  115000.0       84\n",
      "267   W. Ben Yedder       RS   28000.0       82\n",
      "357         S. Zaza       RS   48000.0       81\n",
      "\n",
      " RCB             Name Position      Wage  Overall\n",
      "8   Sergio Ramos      RCB  380000.0       91\n",
      "39  Thiago Silva      RCB  165000.0       88\n",
      "54         Piqué      RCB  240000.0       87\n",
      "62     R. Varane      RCB  210000.0       86\n",
      "70    L. Bonucci      RCB  160000.0       86\n",
      "\n",
      " LCM                 Name Position      Wage  Overall\n",
      "11          T. Kroos      LCM  355000.0       90\n",
      "13       David Silva      LCM  285000.0       90\n",
      "52         M. Hamšík      LCM  125000.0       87\n",
      "63       M. Verratti      LCM  135000.0       86\n",
      "114  Bruno Fernandes      LCM   22000.0       84\n",
      "\n",
      " CB             Name Position      Wage  Overall\n",
      "12      D. Godín       CB  125000.0       90\n",
      "42     S. Umtiti       CB  205000.0       87\n",
      "73    M. Benatia       CB  160000.0       86\n",
      "89   N. Otamendi       CB  170000.0       85\n",
      "102        Naldo       CB   38000.0       85\n",
      "\n",
      " LDM             Name Position      Wage  Overall\n",
      "14      N. Kanté      LDM  225000.0       89\n",
      "91      Paulinho      LDM  235000.0       85\n",
      "119   Marquinhos      LDM   90000.0       84\n",
      "217  Lucas Leiva      LDM   64000.0       83\n",
      "323   F. de Jong      LDM   19000.0       81\n",
      "\n",
      " CAM                Name Position      Wage  Overall\n",
      "17     A. Griezmann      CAM  145000.0       89\n",
      "31       C. Eriksen      CAM  205000.0       88\n",
      "61  Roberto Firmino      CAM  195000.0       86\n",
      "66        T. Müller      CAM  135000.0       86\n",
      "74          M. Özil      CAM  190000.0       86\n",
      "\n",
      " CDM                 Name Position      Wage  Overall\n",
      "20   Sergio Busquets      CDM  315000.0       89\n",
      "27          Casemiro      CDM  285000.0       88\n",
      "72         M. Pjanić      CDM  180000.0       86\n",
      "75       Fernandinho      CDM  185000.0       86\n",
      "118          Fabinho      CDM  120000.0       84\n",
      "\n",
      " LS               Name Position      Wage  Overall\n",
      "21       E. Cavani       LS  200000.0       89\n",
      "38      G. Higuaín       LS  245000.0       88\n",
      "100    Diego Costa       LS  100000.0       85\n",
      "151       A. Gómez       LS   53000.0       84\n",
      "174  Gerard Moreno       LS   53000.0       83\n",
      "\n",
      " LCB              Name Position      Wage  Overall\n",
      "24   G. Chiellini      LCB  215000.0       89\n",
      "34     M. Hummels      LCB  160000.0       88\n",
      "44   K. Koulibaly      LCB  115000.0       87\n",
      "51  J. Vertonghen      LCB  155000.0       87\n",
      "59    V. van Dijk      LCB  165000.0       86\n",
      "\n",
      " RM               Name Position      Wage  Overall\n",
      "25       K. Mbappé       RM  100000.0       88\n",
      "26        M. Salah       RM  255000.0       88\n",
      "122     F. Thauvin       RM   72000.0       84\n",
      "137  José Callejón       RM  105000.0       84\n",
      "138    A. Di María       RM  125000.0       84\n",
      "\n",
      " LAM                  Name Position      Wage  Overall\n",
      "28       J. Rodríguez      LAM  315000.0       88\n",
      "365          D. Tadić      LAM   26000.0       81\n",
      "1587   Fabrio Farinha      LAM   31000.0       75\n",
      "2247  Leo Caldeirinha      LAM   13000.0       74\n",
      "2342  Nicolás Formido      LAM   23000.0       74\n",
      "\n",
      " LM              Name Position      Wage  Overall\n",
      "33  P. Aubameyang       LM  265000.0       88\n",
      "58        S. Mané       LM  195000.0       86\n",
      "65  Douglas Costa       LM  175000.0       86\n",
      "68        M. Reus       LM  100000.0       86\n",
      "86           Koke       LM   88000.0       85\n",
      "\n",
      " LB             Name Position      Wage  Overall\n",
      "35       Marcelo       LB  285000.0       88\n",
      "49    Jordi Alba       LB  250000.0       87\n",
      "64   Alex Sandro       LB  160000.0       86\n",
      "85      D. Alaba       LB  110000.0       85\n",
      "106  Filipe Luís       LB   81000.0       85\n",
      "\n",
      " RDM              Name Position      Wage  Overall\n",
      "45       P. Pogba      RDM  210000.0       87\n",
      "134  Illarramendi      RDM   51000.0       84\n",
      "198      I. Gueye      RDM  125000.0       83\n",
      "223   D. De Rossi      RDM   80000.0       83\n",
      "298     M. Parolo      RDM   59000.0       82\n",
      "\n",
      " RW               Name Position      Wage  Overall\n",
      "56  Bernardo Silva       RW  180000.0       86\n",
      "60     R. Sterling       RW  195000.0       86\n",
      "79   Marco Asensio       RW  215000.0       85\n",
      "84       R. Mahrez       RW  205000.0       85\n",
      "93      A. Sánchez       RW  215000.0       85\n",
      "\n",
      " CM                     Name Position      Wage  Overall\n",
      "67                Thiago       CM  130000.0       86\n",
      "78   S. Milinković-Savić       CM   73000.0       85\n",
      "121             Jorginho       CM  155000.0       84\n",
      "136          I. Gündoğan       CM  175000.0       84\n",
      "161             N. Keïta       CM  120000.0       83\n",
      "\n",
      " RB               Name Position      Wage  Overall\n",
      "69     Azpilicueta       RB  175000.0       86\n",
      "123       Carvajal       RB  185000.0       84\n",
      "135      K. Walker       RB  165000.0       84\n",
      "192  Sergi Roberto       RB  170000.0       83\n",
      "216      L. Bender       RB   82000.0       83\n",
      "\n",
      " RAM                 Name Position      Wage  Overall\n",
      "129      J. Cuadrado      RAM  150000.0       84\n",
      "171        H. Ziyech      RAM   28000.0       83\n",
      "1705  Allan Bardinho      RAM   22000.0       75\n",
      "2242    Jacson Zonta      RAM   13000.0       74\n",
      "2322  Sebas Couteira      RAM   14000.0       74\n",
      "\n",
      " CF              Name Position     Wage  Overall\n",
      "271  Luis Alberto       CF  67000.0       82\n",
      "293   S. Giovinco       CF  15000.0       82\n",
      "350      A. Milik       CF  71000.0       81\n",
      "382     L. Stindl       CF  43000.0       81\n",
      "407       Raffael       CF  41000.0       81\n",
      "\n",
      " RWB              Name Position     Wage  Overall\n",
      "450     M. Ginter      RWB  28000.0       80\n",
      "465  P. Kadeřábek      RWB  39000.0       80\n",
      "517    S. Coleman      RWB  97000.0       80\n",
      "652  D. Caligiuri      RWB  33000.0       79\n",
      "766  Pablo Maffeo      RWB  24000.0       78\n",
      "\n",
      " LWB           Name Position     Wage  Overall\n",
      "474  N. Schulz      LWB  37000.0       80\n",
      "581    Granell      LWB  37000.0       79\n",
      "601      Jonny      LWB  43000.0       79\n",
      "605  J. Hector      LWB  26000.0       79\n",
      "787  J. Mojica      LWB  28000.0       78\n"
     ]
    }
   ],
   "source": [
    "for i in ['RF', 'ST', 'LW', 'GK', 'RCM', 'LF', 'RS', 'RCB', 'LCM', 'CB',\n",
    "       'LDM', 'CAM', 'CDM', 'LS', 'LCB', 'RM', 'LAM', 'LM', 'LB', 'RDM',\n",
    "       'RW', 'CM', 'RB', 'RAM', 'CF', 'RWB', 'LWB']:\n",
    "    print('\\n',i, position.get_group(i).head())"
   ]
  },
  {
   "cell_type": "markdown",
   "metadata": {},
   "source": [
    "# Displaying Best player in each position"
   ]
  },
  {
   "cell_type": "code",
   "execution_count": 72,
   "metadata": {},
   "outputs": [
    {
     "data": {
      "text/html": [
       "<div>\n",
       "<style scoped>\n",
       "    .dataframe tbody tr th:only-of-type {\n",
       "        vertical-align: middle;\n",
       "    }\n",
       "\n",
       "    .dataframe tbody tr th {\n",
       "        vertical-align: top;\n",
       "    }\n",
       "\n",
       "    .dataframe thead th {\n",
       "        text-align: right;\n",
       "    }\n",
       "</style>\n",
       "<table border=\"1\" class=\"dataframe\">\n",
       "  <thead>\n",
       "    <tr style=\"text-align: right;\">\n",
       "      <th></th>\n",
       "      <th>Name</th>\n",
       "      <th>Position</th>\n",
       "      <th>Wage</th>\n",
       "      <th>Overall</th>\n",
       "    </tr>\n",
       "  </thead>\n",
       "  <tbody>\n",
       "    <tr>\n",
       "      <th>0</th>\n",
       "      <td>L. Messi</td>\n",
       "      <td>RF</td>\n",
       "      <td>565000.0</td>\n",
       "      <td>94</td>\n",
       "    </tr>\n",
       "    <tr>\n",
       "      <th>1</th>\n",
       "      <td>Cristiano Ronaldo</td>\n",
       "      <td>ST</td>\n",
       "      <td>405000.0</td>\n",
       "      <td>94</td>\n",
       "    </tr>\n",
       "    <tr>\n",
       "      <th>2</th>\n",
       "      <td>Neymar Jr</td>\n",
       "      <td>LW</td>\n",
       "      <td>290000.0</td>\n",
       "      <td>92</td>\n",
       "    </tr>\n",
       "    <tr>\n",
       "      <th>3</th>\n",
       "      <td>De Gea</td>\n",
       "      <td>GK</td>\n",
       "      <td>260000.0</td>\n",
       "      <td>91</td>\n",
       "    </tr>\n",
       "    <tr>\n",
       "      <th>4</th>\n",
       "      <td>K. De Bruyne</td>\n",
       "      <td>RCM</td>\n",
       "      <td>355000.0</td>\n",
       "      <td>91</td>\n",
       "    </tr>\n",
       "  </tbody>\n",
       "</table>\n",
       "</div>"
      ],
      "text/plain": [
       "                Name Position      Wage  Overall\n",
       "0           L. Messi       RF  565000.0       94\n",
       "1  Cristiano Ronaldo       ST  405000.0       94\n",
       "2          Neymar Jr       LW  290000.0       92\n",
       "3             De Gea       GK  260000.0       91\n",
       "4       K. De Bruyne      RCM  355000.0       91"
      ]
     },
     "execution_count": 72,
     "metadata": {},
     "output_type": "execute_result"
    }
   ],
   "source": [
    "new.sort_values('Overall',ascending=False).head()"
   ]
  },
  {
   "cell_type": "code",
   "execution_count": 75,
   "metadata": {},
   "outputs": [
    {
     "name": "stdout",
     "output_type": "stream",
     "text": [
      "\n",
      " RF 148000.0\n",
      "\n",
      " ST 294000.0\n",
      "\n",
      " LW 261000.0\n",
      "\n",
      " GK 192800.0\n",
      "\n",
      " RCM 240800.0\n",
      "\n",
      " LF 121200.0\n",
      "\n",
      " RS 132200.0\n",
      "\n",
      " RCB 231000.0\n",
      "\n",
      " LCM 184400.0\n",
      "\n",
      " CB 139600.0\n",
      "\n",
      " LDM 126600.0\n",
      "\n",
      " CAM 174000.0\n",
      "\n",
      " CDM 217000.0\n",
      "\n",
      " LS 130200.0\n",
      "\n",
      " LCB 162000.0\n",
      "\n",
      " RM 131400.0\n",
      "\n",
      " LAM 81600.0\n",
      "\n",
      " LM 164600.0\n",
      "\n",
      " LB 177200.0\n",
      "\n",
      " RDM 105000.0\n",
      "\n",
      " RW 202000.0\n",
      "\n",
      " CM 130600.0\n",
      "\n",
      " RB 155400.0\n",
      "\n",
      " RAM 45400.0\n",
      "\n",
      " CF 47400.0\n",
      "\n",
      " RWB 44200.0\n",
      "\n",
      " LWB 34200.0\n"
     ]
    }
   ],
   "source": [
    "for i in ['RF', 'ST', 'LW', 'GK', 'RCM', 'LF', 'RS', 'RCB', 'LCM', 'CB',\n",
    "       'LDM', 'CAM', 'CDM', 'LS', 'LCB', 'RM', 'LAM', 'LM', 'LB', 'RDM',\n",
    "       'RW', 'CM', 'RB', 'RAM', 'CF', 'RWB', 'LWB'] :\n",
    "    print('\\n',i,new[new.Position==i].sort_values('Overall',ascending=False).Wage.head(n=5).mean())"
   ]
  },
  {
   "cell_type": "code",
   "execution_count": null,
   "metadata": {},
   "outputs": [],
   "source": []
  }
 ],
 "metadata": {
  "kernelspec": {
   "display_name": "Python 3",
   "language": "python",
   "name": "python3"
  },
  "language_info": {
   "codemirror_mode": {
    "name": "ipython",
    "version": 3
   },
   "file_extension": ".py",
   "mimetype": "text/x-python",
   "name": "python",
   "nbconvert_exporter": "python",
   "pygments_lexer": "ipython3",
   "version": "3.7.1"
  }
 },
 "nbformat": 4,
 "nbformat_minor": 2
}
